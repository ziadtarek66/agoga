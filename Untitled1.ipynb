{
 "cells": [
  {
   "cell_type": "code",
   "execution_count": 32,
   "id": "3a9abc92-2c7f-4177-833c-2b913967c10c",
   "metadata": {},
   "outputs": [
    {
     "name": "stdin",
     "output_type": "stream",
     "text": [
      "enter Gravitational Constant 8\n",
      "enter Mass of Earth 5000\n",
      "enter Mass of Moon 500\n",
      "enter Distance between the 2 masses 1200\n"
     ]
    },
    {
     "name": "stdout",
     "output_type": "stream",
     "text": [
      "fg =  13.88888888888889\n"
     ]
    }
   ],
   "source": [
    "G = float(input('enter Gravitational Constant'))\n",
    "Me = float(input('enter Mass of Earth'))\n",
    "Mm = float(input('enter Mass of Moon'))\n",
    "r = float(input('enter Distance between the 2 masses'))\n",
    "fg = G*Me*Mm/r**2\n",
    "print(\"fg = \" , fg)\n",
    "\n",
    "\n"
   ]
  },
  {
   "cell_type": "code",
   "execution_count": 31,
   "id": "e7d6ea55-12cd-43e5-bcc1-b6d9831980be",
   "metadata": {},
   "outputs": [
    {
     "name": "stdout",
     "output_type": "stream",
     "text": [
      "1 \n",
      "2 2 \n",
      "3 3 3 \n",
      "4 4 4 4 \n",
      "5 5 5 5 5 \n"
     ]
    }
   ],
   "source": [
    "for i in range(1,5+1):\n",
    "    for j in range(1,i+1):\n",
    "        print(i,end=\" \")\n",
    "    print()"
   ]
  },
  {
   "cell_type": "markdown",
   "id": "f38c1310-70b6-4c3a-8f69-a4ba1ec955d8",
   "metadata": {},
   "source": []
  }
 ],
 "metadata": {
  "kernelspec": {
   "display_name": "Python 3 (ipykernel)",
   "language": "python",
   "name": "python3"
  },
  "language_info": {
   "codemirror_mode": {
    "name": "ipython",
    "version": 3
   },
   "file_extension": ".py",
   "mimetype": "text/x-python",
   "name": "python",
   "nbconvert_exporter": "python",
   "pygments_lexer": "ipython3",
   "version": "3.10.9"
  }
 },
 "nbformat": 4,
 "nbformat_minor": 5
}
